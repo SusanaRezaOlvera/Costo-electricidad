{
 "cells": [
  {
   "cell_type": "markdown",
   "id": "2fccb35f",
   "metadata": {},
   "source": [
    "### Costo de electricidad\n",
    "\n",
    "Determinar el costo de la electricidad a partir del consumo. La tarifa de la CFE para una localidad que alcanza la temperatura media mínima de 30 grados centígrados en verano es:\n",
    "\n",
    "- Consumo básico (primeros 300 kWh): \\$0.595  \n",
    "- Consumo intermedio bajo (los siguientes 900 kWh): \\$0.741 \n",
    "- Consumo intermedio alto (los siguientes 1,300 kWh): $1.804\n",
    "- Consumo excedente (consumo adicional): \\$2.859\n"
   ]
  },
  {
   "cell_type": "code",
   "execution_count": 2,
   "id": "9257f7c0",
   "metadata": {},
   "outputs": [],
   "source": [
    "def costo(kwh):\n",
    "    if kwh <= 300:\n",
    "        precio = kwh*0.595\n",
    "    elif 300 < kwh <= 900:\n",
    "        precio = 300*0.595 + (kwh-300)*0.741\n",
    "    elif 900 < kwh <= 1300:\n",
    "        precio = 300*0.595 + 900*0.741+ (kwh-1200)*1.804\n",
    "    else:\n",
    "        precio = 300*0.595 + 900*0.741+ 1300*1.804 + (kwh-2500)*2.859\n",
    "        \n",
    "    print(\"El precio es: $\", round(precio, 2))"
   ]
  },
  {
   "cell_type": "code",
   "execution_count": 5,
   "id": "c62dea4b",
   "metadata": {},
   "outputs": [
    {
     "name": "stdout",
     "output_type": "stream",
     "text": [
      "El precio es: $ 1761.1\n"
     ]
    }
   ],
   "source": [
    "costo(2000)"
   ]
  }
 ],
 "metadata": {
  "kernelspec": {
   "display_name": "Python 3 (ipykernel)",
   "language": "python",
   "name": "python3"
  },
  "language_info": {
   "codemirror_mode": {
    "name": "ipython",
    "version": 3
   },
   "file_extension": ".py",
   "mimetype": "text/x-python",
   "name": "python",
   "nbconvert_exporter": "python",
   "pygments_lexer": "ipython3",
   "version": "3.9.8"
  }
 },
 "nbformat": 4,
 "nbformat_minor": 5
}
